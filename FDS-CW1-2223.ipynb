{
 "cells": [
  {
   "cell_type": "markdown",
   "metadata": {
    "deletable": false,
    "editable": false
   },
   "source": [
    "<span style=\"display: none\">\n",
    "\\setcounter{secnumdepth}{0}\n",
    "    \n",
    "\\newcommand{\\answerbox}[1][5]{\n",
    "  \\noindent\\hskip -0.025\\linewidth\\framebox[1.05\\linewidth]{\\vbox to #1\\baselineskip{}}\n",
    "\n",
    "  \\vspace{-#1\\baselineskip}\n",
    "\n",
    "\\vspace{-\\baselineskip}}\n",
    "</span>"
   ]
  },
  {
   "cell_type": "markdown",
   "metadata": {
    "deletable": false,
    "editable": false
   },
   "source": [
    "# Inf2-FDS Coursework 1 - Data wrangling and visualisation \n",
    "\n",
    "Released: Monday, 24 October 2022\n",
    "\n",
    "Submission deadline: **Friday, 4 November, 12:00 UK time**\n",
    "\n",
    "##  Late submission rules\n",
    "\n",
    "\n",
    "\n",
    "This coursework uses the  [Informatics Late Submission of Coursework](https://web.inf.ed.ac.uk/infweb/student-services/taught-students/information-for-students/information-for-all-students/your-studies/late-coursework-extension-requests) Rule 3 with a __maximum 6 day extension__. Extensions, Extra Time Adjustment (ETA) for Extra Time and for Extra Time for Proof Reader/Interpreter are permitted, __but cannot be combined__.\n",
    "\n",
    "**It is very important that you read and follow the instructions below to the letter: you will be deducted marks for not adhering to the advice below.**\n",
    "\n",
    "## Good Scholarly Practice \n",
    "\n",
    "Please remember the University requirement as regards all assessed work for credit.  Details about this can be found at: [http://web.inf.ed.ac.uk/infweb/admin/policies/academic-misconduct](http://web.inf.ed.ac.uk/infweb/admin/policies/academic-misconduct)\n",
    "\n",
    "Specifically, this coursework **must be your own work**. We want you to be able to discuss the class material with each other, but the coursework you submit must be your own work. You are free to form study groups and discuss the concepts related to, and the high-level approach to the coursework. **You may never share code or share write-ups**. It is also not permitted to discuss this coursework on Piazza. The only exception is that if you believe there is an error in the coursework, you may ask a private question to the instructors, and if we feel that the issue is justified, we will send out an announcement.\n",
    "\n",
    "## Assessment information and criteria\n",
    "\n",
    "- This assignment accounts for 20% of the marks for this course.\n",
    "- It is marked based on the PDF export from a Jupyter notebook (see __General instructions__ below), which you are to submit via Gradescope (see __Assessment/Assignment Submission/Coursework 1 - Data wrangling and visualisation__ folder in Learn).\n",
    "- The assignment is marked out of 100 and the number of points is indicated by each question. \n",
    "- We will assess your work on the following criteria:\n",
    "  - functional code that performs the computations asked for, as measured by verifying some of the numeric outputs from your processing and reading your code if there is doubt about what you have done\n",
    "  - the quality of the visualisations, measured against the _Visualisation principles and guidance_ handout in the S1 Week 5 workshop (PDF available in S1 Week 4 folder in Learn)\n",
    "  - the quality of your textual comments - as measured by how accurate, complete and insightful they are.\n",
    " \n",
    "## General instructions\n",
    "\n",
    "- Read the instructions carefully, answering what is required and only that.\n",
    "\n",
    "- Fill in your answers in the cells indicated. You may delete text like \"Your answer to Q1.2 goes here\". __Do not edit or delete any other cells.__\n",
    "\n",
    "- Keep your answers brief and concise.\n",
    "\n",
    "- For answers involving visualisations, make sure to label them clearly and provide legends where necessary. \n",
    "\n",
    "- For answers involving numerical values, use correct units where appropriate and format floating point values to a reasonable number of decimal places.\n",
    "\n",
    "- Once you have finished a question, use a Jupyter notebook server to export your PDF, by selecting __File->Download as->PDF via LaTeX (.pdf)__.\n",
    "\n",
    "- Check this PDF document looks as you expect it to. If changes are needed, update the notebook and export again.\n",
    "\n",
    "- Once you have finished all the questions, submit the final PDF using the submission instructions in the __Assessment->Assignment Submission->Coursework 1 - Data wrangling and visualisation__ folder in Learn. __Please allow enough time to upload your PDF before the deadline.__\n",
    "\n",
    "## How long should I spend on this coursework?\n",
    "\n",
    "We have designed the coursework to take around 8 hours for a student who has completed the lab sessions, attended the lectures and workshops and done the comprehension questions. There will be some spread around this value, but if you're up-to-date with the course, and you're taking much longer than 8 hours (say 12 hours), then you might want to consider how many marks you are gaining for each extra hour of work."
   ]
  },
  {
   "cell_type": "markdown",
   "metadata": {
    "deletable": false,
    "editable": false
   },
   "source": [
    "# Coursework questions\n",
    "\n",
    "This coursework consists of two questions with multiple parts. Complete all questions. \n",
    "\n",
    "We ask for multiple types of responses:\n",
    "\n",
    "- Numeric responses, which we will use to verify that the processing has been done correctly\n",
    "- Visualisations, which will be assessed using the parts of the _Visualisation principles and guidance_ PDF that apply to the visualisation in question\n",
    "- Comments on your findings, which may ask you to describe, explain or interpret your results, and which will be assessed on how accurate, complete and insightful they are.\n",
    "\n",
    "\n",
    "In order to understand the meaning the datasets, you may need to follow the links citing the data.\n",
    "\n",
    "Read through all of a question before starting, as some parts build on each other.\n",
    "\n",
    "Good luck - we hope you enjoy it!"
   ]
  },
  {
   "cell_type": "code",
   "execution_count": null,
   "metadata": {
    "deletable": false
   },
   "outputs": [],
   "source": [
    "# Imports - run this cell first, and add your own imports here.\n",
    "# You can use any package you want, but we suggest you stick to ones used in the labs\n",
    "import pandas as pd\n",
    "import matplotlib.pyplot as plt\n",
    "import matplotlib\n",
    "import seaborn as sns\n",
    "matplotlib.rcParams['figure.dpi'] = 150 # Make figures have reasonable resolution when exporting"
   ]
  },
  {
   "cell_type": "markdown",
   "metadata": {
    "deletable": false,
    "editable": false
   },
   "source": [
    "# Question 1 (20 points) - Identifying and correcting bad visualisation practices\n",
    "\n",
    "Designing a good visualisation can be time-consuming, but is important for clear communication. In this question we will ask you to identify and correct bad visualisation practices.  (Note that we'd like you to continue using good visualisation practices in other parts of this coursework too!)  \n",
    "\n",
    "We'd like to visualise the time courses of the value (in US dollars, USD) of three currently  cryptocurrencies: Bitcoin, Cardano and Ethereum so that we can compare them with each other.\n",
    "\n",
    "The code in the cell below sets up three data frames for the three cryptocurrencies. Each data frame contains two columns - a column called `Date` that denotes a date and a column called `Close` that contains the closing price of the cryptocurrency (in USD) recorded on the associated date. Since these cryptocurrencies were created at different times, the amount of data available for each is different. The data was adapted from a Kaggle dataset (https://www.kaggle.com/datasets/sudalairajkumar/cryptocurrencypricehistory), which is under a CC0: Public Domain license.\n",
    "\n",
    "- Run the code in the cell below. After a few seconds, a plot should appear, which is an example of bad visualisation practice. \n",
    "- Export this document to PDF, by using by selecting __File->Download as->PDF via LaTeX (.pdf)__.\n",
    "- Look at the plot in Jupyter and in the PDF.\n",
    "\n",
    "The plot shows three time-series of closing prices of Bitcoin (red), Ethereum (green) and Cardano (yellow) as bar plots."
   ]
  },
  {
   "cell_type": "code",
   "execution_count": null,
   "metadata": {
    "deletable": false,
    "editable": false
   },
   "outputs": [],
   "source": [
    "# These dataframes hold the data.\n",
    "df_BTC = pd.read_csv(\"crypto_data/coin_Bitcoin.csv\")\n",
    "df_ADA = pd.read_csv(\"crypto_data/coin_Cardano.csv\")\n",
    "df_ETH = pd.read_csv(\"crypto_data/coin_Ethereum.csv\")\n",
    "\n",
    "print(\"Column names in the data sets \", df_BTC.columns)\n",
    "\n",
    "fig, ax1 = plt.subplots(figsize=(20, 20))\n",
    "\n",
    "ax1.bar(df_ADA.index, df_ADA[\"Close\"], color='yellow')\n",
    "ax1.bar(df_ETH.index, df_ETH[\"Close\"], color='green')\n",
    "ax1.bar(df_BTC.index, df_BTC[\"Close\"], color='red')\n",
    "\n",
    "matplotlib.rcParams['figure.dpi'] = 150 # Make figures have reasonable resolution when exporting"
   ]
  },
  {
   "cell_type": "markdown",
   "metadata": {
    "deletable": false,
    "editable": false
   },
   "source": [
    "<span style=\"display: none\">\\newpage</span>\n",
    "\n",
    "## Question 1.1 (10 points)\n",
    "\n",
    "The plot above is meant to allow for a visual comparison between different cryptocurrency closing prices on the same date, but it's an example of bad visualisation practice. \n",
    "\n",
    "List as many problems as you can with this visualisation and what you would do to fix them. For each problem you should include:\n",
    "- which one of the 5 principles in the  _Visualisation principles and guidance_ handout is broken\n",
    "- the reason why the plot breaks that principle\n",
    "- how you would change the plot to fix this problem (this may be obvious, in which case you don't need to say much)\n",
    "\n",
    "You should be able to list at least 6 changes, and you will score 1 point for each problem correctly identified with a principle, and an extra point for suggested fixes, if they are not obvious ones.\n",
    "\n",
    "Please make sure that your answer is no longer than 20 lines, i.e. stays in the box in the PDF file you have produced from this notebook. You can delete the text saying \"Your answer goes here\".\n",
    "\n",
    "<span style=\"display: none\">\\answerbox[20]{}</span>"
   ]
  },
  {
   "cell_type": "markdown",
   "metadata": {
    "deletable": false
   },
   "source": [
    "Your answer for Q1.1 goes here"
   ]
  },
  {
   "cell_type": "markdown",
   "metadata": {
    "deletable": false,
    "editable": false
   },
   "source": [
    "<span style=\"display: none\">\\newpage</span>\n",
    "\n",
    "## Question 1.2 (10 points)\n",
    "\n",
    "Write the code in the cell below to implement the changes you listed in Q1.1 so someone presented with it could easily interpret the improved plot. Afterwards, run the code to produce the plot itself. Remember that when you export this notebook to a PDF, it will have a text width of 6 inches."
   ]
  },
  {
   "cell_type": "code",
   "execution_count": null,
   "metadata": {
    "deletable": false
   },
   "outputs": [],
   "source": [
    "# Your code for Q1.2 goes here"
   ]
  },
  {
   "cell_type": "markdown",
   "metadata": {
    "deletable": false,
    "editable": false
   },
   "source": [
    "<span style=\"display: none\">\\newpage</span>\n",
    "\n",
    "# Question 2 (20 points) - Exploring the World Happiness Report data\n",
    "\n",
    "In Question 2 we will start exploring the [World Happiness Report](https://worldhappiness.report/) data for the years 2017 and 2018. In question 3 we'll do some data wrangling on the data, and then combine the data with another dataset in question 4. In question 5 we'll give you an opportunity to produce your own visualisation from the dataset.\n",
    "\n",
    "World Happiness Reports provide a measure of the happiness and well-being of inhabitants of countries (with a few exceptions) based on survey data. Each of a set of questions asks survey respondents to evaluate their life on a scale from 0 to 10, where 0 is the worst possible life and 10 is the best. Additional data on six other measures (GDP per capita, life expectancy, generosity, social support, freedom, and corruption) are used to explain how much these factors increase happiness above Dystopia. Dystopia is a hypothetical country with values equal to the world’s lowest national averages for each of the six factors.  The [FAQ section of the World Happiness Report website](https://worldhappiness.report/faq/) has more information about the methodology.\n",
    "\n",
    "Below we ask you to read in the World Happiness Report data from 2017 and 2018, do some data wrangling, apply some fundamental data manipulation functions, create visualisations and analyse the trends that you find. The questions are organised so that the first few questions give more detailed instructions and the later questions are more open-ended. We also want you to consider whether there are any limitations of the data that should be considered. Finally, the datasets used in this notebook are not large enough to cause issues, but do consider computational complexity and efficiency of your code."
   ]
  },
  {
   "cell_type": "markdown",
   "metadata": {
    "deletable": false,
    "editable": false
   },
   "source": [
    "<span style=\"display: none\">\\newpage</span>\n",
    "\n",
    "## Question 2.1 (3 points)\n",
    "\n",
    "Read in World Happiness Report datasets for 2017 and 2018. They are located in the folder `whr_data` and are called `whr_2017.csv` and `whr_2018.csv` respectively. Then load the file called `country_continent.csv`, which contains country names in one column and its associated continent in another. Print the number of rows and columns in all three data sets in the format:\n",
    "```\n",
    "<Dataset>: <n> rows and <m> columns\n",
    "```\n",
    "Here `<Dataset>` is a string that makes it clear which dataset you're referring to."
   ]
  },
  {
   "cell_type": "code",
   "execution_count": null,
   "metadata": {
    "deletable": false
   },
   "outputs": [],
   "source": [
    "# Your code for Q2.1 goes here"
   ]
  },
  {
   "cell_type": "markdown",
   "metadata": {
    "deletable": false,
    "editable": false
   },
   "source": [
    "<span style=\"display: none\">\\newpage</span>\n",
    "\n",
    "## Question 2.2 (2 points)\n",
    "\n",
    "Use a pandas function to print information about both DataFrames including the index dtype and columns."
   ]
  },
  {
   "cell_type": "code",
   "execution_count": null,
   "metadata": {},
   "outputs": [],
   "source": [
    "## Your code for Q2.2 goes here"
   ]
  },
  {
   "cell_type": "markdown",
   "metadata": {
    "deletable": false,
    "editable": false
   },
   "source": [
    "<span style=\"display: none\">\\newpage</span>\n",
    "\n",
    "## Question 2.3 (3 points)\n",
    "\n",
    "What do you notice about the output from the functions?\n",
    "\n",
    "Please make sure that your answer is no longer than 7 lines, i.e. stays in the box in the PDF file you have produced from this notebook. You can delete the text saying \"Your answer goes here\".\n",
    "\n",
    "<span style=\"display: none\">\\answerbox[7]{}</span>"
   ]
  },
  {
   "cell_type": "markdown",
   "metadata": {
    "deletable": false
   },
   "source": [
    "Your answer for Q2.3 goes here"
   ]
  },
  {
   "cell_type": "markdown",
   "metadata": {
    "deletable": false,
    "editable": false
   },
   "source": [
    "<span style=\"display: none\">\\newpage</span>\n",
    "\n",
    "## Question 2.4 (5 points)\n",
    "\n",
    "Find the intersection of `Country` columns between 2017 and 2018 World Happiness Report datasets (WHR17 and WHR18). If there are countries that are not in the intersection (are inconsistent between the two data sets) in **either** data set, print them out in the format:\n",
    "```\n",
    "Countries in WHR17 but not in WHR18:\n",
    "<List of countries>\n",
    "Countries in WHR18 but not in WHR17:\n",
    "<List of countries>\n",
    "```"
   ]
  },
  {
   "cell_type": "code",
   "execution_count": null,
   "metadata": {
    "deletable": false
   },
   "outputs": [],
   "source": [
    "# Your code for Q2.4 goes here"
   ]
  },
  {
   "cell_type": "markdown",
   "metadata": {
    "deletable": false,
    "editable": false
   },
   "source": [
    "<span style=\"display: none\">\\newpage</span>\n",
    "\n",
    "## Question 2.5 (2 points)\n",
    "\n",
    "What do you observe about the differences between the two sets of countries?\n",
    "\n",
    "Please make sure that your answer is no longer than 5 lines, i.e. stays in the box in the PDF file you have produced from this notebook. You can delete the text saying \"Your answer goes here\".\n",
    "\n",
    "<span style=\"display: none\">\\answerbox[5]{}</span>"
   ]
  },
  {
   "cell_type": "markdown",
   "metadata": {
    "deletable": false
   },
   "source": [
    "Your answer to Q2.5 goes here"
   ]
  },
  {
   "cell_type": "markdown",
   "metadata": {
    "deletable": false,
    "editable": false
   },
   "source": [
    "<span style=\"display: none\">\\newpage</span>\n",
    "\n",
    "## Question 2.6 (5 points)\n",
    "\n",
    "Rename the countries in the WHR 17 dataset, so that you there are no inconsistencies between country names in the two datasets. Repeat the test you did in Question 2.4 to prove that the country names are consistent."
   ]
  },
  {
   "cell_type": "code",
   "execution_count": null,
   "metadata": {
    "deletable": false
   },
   "outputs": [],
   "source": [
    "# Your code for Q2.6 goes here"
   ]
  },
  {
   "cell_type": "markdown",
   "metadata": {
    "deletable": false,
    "editable": false
   },
   "source": [
    "<span style=\"display: none\">\\newpage</span>\n",
    "\n",
    "# Question 4 (10) - Tidying and descriptive stats\n",
    "    \n",
    "The world happiness data is currently in two DataFrames. We want to convert it to be in one DataFrame in \\\"Tidy\\\" or \\\"long form\\\" format.\n",
    "\n",
    "**Note: if you get stuck you can skip this question, and go to question 5** \n",
    "\n",
    "<span style=\"display: none\">\\newpage</span>\n",
    "\n",
    "## Question 3.1 (5 points)\n",
    "\n",
    "Create one DataFrame in tidy format from the two DataFrames that you have modified to have a consistent set of country names. \n",
    "\n",
    "The DataFrame should have a column `Year`, indicating which year the year for which the data was gathered. The tidy DataFrame should contain all columns present in both the 2017 and 2018 DataFrames, even if the column doesn't appear in both DataFrames.   \n",
    "\n",
    "After you have created the DataFrame in tidy format:\n",
    "1. Print the dimensionality of the tidy DataFrame\n",
    "2. Print the column names of the tidy Data Frame"
   ]
  },
  {
   "cell_type": "code",
   "execution_count": null,
   "metadata": {
    "deletable": false
   },
   "outputs": [],
   "source": [
    "# Your code for Q3.1 goes here"
   ]
  },
  {
   "cell_type": "markdown",
   "metadata": {
    "deletable": false,
    "editable": false
   },
   "source": [
    "<span style=\"display: none\">\\newpage</span>\n",
    "\n",
    "## Question 3.2 (5 points)\n",
    "    \n",
    "Calculate and print (to 3 decimal places digits) the overall mean and standard deviation of `Happiness score` for years 2017 and 2018 separately."
   ]
  },
  {
   "cell_type": "code",
   "execution_count": null,
   "metadata": {
    "deletable": false
   },
   "outputs": [],
   "source": [
    "# Your code for Q3.2 goes here"
   ]
  },
  {
   "cell_type": "markdown",
   "metadata": {
    "deletable": false,
    "editable": false
   },
   "source": [
    "<span style=\"display: none\">\\newpage</span>\n",
    "\n",
    "# Question 4 (27) - Trends across continents\n",
    "\n",
    "In this question we will see if there are any trends across continents."
   ]
  },
  {
   "cell_type": "markdown",
   "metadata": {
    "deletable": false,
    "editable": false
   },
   "source": [
    "<span style=\"display: none\">\\newpage</span>\n",
    "\n",
    "## Question 4.1 (5 points)\n",
    "\n",
    "Using the `continents` data loaded in Question 2.1, use a Pandas command or commands to create a new version of the __2017__ World Happiness Dataset (_not_ the tidy DataFrame from Question 3). In this version there should be a `Continent` column that gives the continent to which each country on each row belongs.  If the country doesn't exist in the `continents` data, the `Continent` should be `NA`.\n",
    "\n",
    "Report:\n",
    "1. The dimensions of the new DataFrame\n",
    "2. How many countries do not have a continent associated with them in the new DataFrame"
   ]
  },
  {
   "cell_type": "code",
   "execution_count": null,
   "metadata": {
    "deletable": false
   },
   "outputs": [],
   "source": [
    "# Your code for Q4.1 goes here"
   ]
  },
  {
   "cell_type": "markdown",
   "metadata": {
    "deletable": false,
    "editable": false
   },
   "source": [
    "<span style=\"display: none\">\\newpage</span>\n",
    "\n",
    "## Question 4.2 (7 points)\n",
    "\n",
    "**Note: if you get stuck on this question, you can use the existing DataFrame(s) for Q4.3**\n",
    "\n",
    "Associate countries in the World Happiness Report 2017 and 2018 data sets with a continent, and in which every row has a continent associated with it. You can either\n",
    "1. Create two DataFrames with continents, one for the 2017 data set and one for the 2018 data set OR\n",
    "2. Create one tidy DataFrame, using the DataFrame created in Question 3.1.\n",
    "\n",
    "**Do not change the stored .csv files, only edit the loaded data frames.**\n",
    "\n",
    "**Hint:** You will need to use real-world knowledge to undertake this task.\n",
    "\n",
    "At the end: \n",
    "1. Print how many countries do not have a continent associated with them in the new DataFrame\n",
    "2. Use your extended DataFrame(s) to calculate and print (to 3 decimal places) mean `Happiness score` for each `Continent` for years 2017 and 2018 separately."
   ]
  },
  {
   "cell_type": "code",
   "execution_count": null,
   "metadata": {
    "deletable": false
   },
   "outputs": [],
   "source": [
    "# Your code for Q4.2 goes here"
   ]
  },
  {
   "cell_type": "markdown",
   "metadata": {
    "deletable": false,
    "editable": false
   },
   "source": [
    "<span style=\"display: none\">\\newpage</span>\n",
    "\n",
    "## Question 4.3 (9 points)\n",
    "\n",
    "Compare the happiness scores in 2017 and 2018 between continents using a visualisation of your choice. You can use either separate DataFrames for 2017 and 2018 created in Q4.1 or Q4.2, or a Tidy DataFrame with continents (which you may have created in Q4.2). The points here are for the visualisation - you won't lose points for not having done Q4.2."
   ]
  },
  {
   "cell_type": "code",
   "execution_count": null,
   "metadata": {
    "deletable": false
   },
   "outputs": [],
   "source": [
    "# Your code for Q4.3 goes here"
   ]
  },
  {
   "cell_type": "markdown",
   "metadata": {
    "deletable": false,
    "editable": false
   },
   "source": [
    "<span style=\"display: none\">\\newpage</span>\n",
    "\n",
    "## Question 4.4 (6 points)\n",
    "\n",
    "Interpret the `Happiness Score` visualisation that you created; i.e. summarise the patterns in the visualisation and any particularly noteworthy features.\n",
    "\n",
    "Please make sure that your answer is no longer than 20 lines, i.e. stays in the box in the PDF file you have produced from this notebook. You can delete the text saying \"Your answer goes here\".\n",
    "\n",
    "\n",
    "<span style=\"display: none\">\\answerbox[20]{}</span>"
   ]
  },
  {
   "cell_type": "markdown",
   "metadata": {
    "deletable": false
   },
   "source": [
    "Your answer for Q4.4 goes here"
   ]
  },
  {
   "cell_type": "markdown",
   "metadata": {
    "deletable": false,
    "editable": false
   },
   "source": [
    "<span style=\"display: none\">\\newpage</span>\n",
    "\n",
    "## Question 5 (23 points)\n",
    "\n",
    "It's now your opportunity to create your own visualisation of the World Happiness data. You can use just the country data from the world happiness report, or you can use the combined DataFrame created in Question 4.  Please don't bring in external datasets - the idea is that this is a small exercise, not a whole project.\n",
    "\n",
    "To recap, the `Happiness score` of each country is explained by 7 factors: `GDP per capita`, `Social support`, `Healthy life expectancy`, `Freedom to make life choices`, `Generosity`, `Perceptions of corruption` and `Dystopia`. If you sum those 7 factors you would get the `Happiness score` for a given country. \n",
    "\n",
    "Here are some ideas:\n",
    "- What countries have changed most in happiness between 2017 and 2018?\n",
    "- How do the factors mentioned above vary between countries or continents?\n",
    "- What are the relationships between the factors mentioned above?\n",
    "\n",
    "We will give credit for particularly interesting questions, good visualisations (as measured by the criteria in the visualisation principles handout) and insightful interpretation.\n",
    "\n",
    "<span style=\"display: none\">\\newpage</span>\n",
    "\n",
    "### Question 5.1 (15 points)\n",
    "\n",
    "Create your visualisation here."
   ]
  },
  {
   "cell_type": "code",
   "execution_count": null,
   "metadata": {
    "deletable": false
   },
   "outputs": [],
   "source": [
    "# Your code for Q5.1 goes here"
   ]
  },
  {
   "cell_type": "markdown",
   "metadata": {
    "deletable": false,
    "editable": false
   },
   "source": [
    "<span style=\"display: none\">\\newpage</span>\n",
    "\n",
    "### Question 5.2 (8 points)\n",
    "\n",
    "Note what question your visualisation addresses, and then write the interpretation of the visualisation.\n",
    "\n",
    "Please make sure that your answer is no longer than 25 lines, i.e. stays in the box in the PDF file you have produced from this notebook. You can delete the text saying \"Your answer goes here\".\n",
    "\n",
    "<span style=\"display: none\">\\answerbox[25]{}</span>"
   ]
  },
  {
   "cell_type": "markdown",
   "metadata": {
    "deletable": false
   },
   "source": [
    "Your answer to Q5.2 goes here"
   ]
  }
 ],
 "metadata": {
  "celltoolbar": "Edit Metadata",
  "deepnote": {
   "is_reactive": false
  },
  "deepnote_execution_queue": [],
  "deepnote_notebook_id": "3669a0bc-e82c-4d6a-be64-b70117ad1d2f",
  "kernelspec": {
   "display_name": "Python 3",
   "language": "python",
   "name": "python3"
  },
  "language_info": {
   "codemirror_mode": {
    "name": "ipython",
    "version": 3
   },
   "file_extension": ".py",
   "mimetype": "text/x-python",
   "name": "python",
   "nbconvert_exporter": "python",
   "pygments_lexer": "ipython3",
   "version": "3.8.1"
  },
  "title": "Inf2 - Foundations of Data Science 2021-22",
  "toc": {
   "base_numbering": 1,
   "nav_menu": {},
   "number_sections": true,
   "sideBar": true,
   "skip_h1_title": false,
   "title_cell": "Table of Contents",
   "title_sidebar": "Contents",
   "toc_cell": false,
   "toc_position": {
    "height": "calc(100% - 180px)",
    "left": "10px",
    "top": "150px",
    "width": "311.383px"
   },
   "toc_section_display": true,
   "toc_window_display": true
  }
 },
 "nbformat": 4,
 "nbformat_minor": 2
}
